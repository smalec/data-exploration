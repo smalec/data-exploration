{
 "cells": [
  {
   "cell_type": "code",
   "execution_count": 86,
   "metadata": {
    "collapsed": false
   },
   "outputs": [],
   "source": [
    "import numpy as np\n",
    "\n",
    "a = np.arange(1, 101)\n",
    "b = np.arange(1, 101, 2)\n",
    "c = np.pi * np.arange(-1., 1.01, .01)\n",
    "d = c[np.arange(len(c)) != 100]\n",
    "e = np.maximum(np.sin(np.arange(1, 101)), 0)\n",
    "A = np.reshape(np.arange(1, 101), (10, 10))\n",
    "B = np.diag(np.arange(1, 101)) + np.diag(np.arange(99, 0, -1), -1) + np.diag(np.arange(99, 0, -1), +1)\n",
    "C = np.triu(np.ones(10))\n",
    "D = np.array([np.cumsum(np.arange(1,101)), np.cumprod(np.arange(1, 101))], dtype=np.uint64) # numbers too big\n",
    "E = (np.mod(np.array([np.arange(1, 11, dtype=np.float)]) / np.array([np.arange(1, 11, dtype=np.float)]).T, 1) == 0).astype(int)"
   ]
  }
 ],
 "metadata": {
  "anaconda-cloud": {},
  "kernelspec": {
   "display_name": "Python [conda root]",
   "language": "python",
   "name": "conda-root-py"
  },
  "language_info": {
   "codemirror_mode": {
    "name": "ipython",
    "version": 2
   },
   "file_extension": ".py",
   "mimetype": "text/x-python",
   "name": "python",
   "nbconvert_exporter": "python",
   "pygments_lexer": "ipython2",
   "version": "2.7.12"
  }
 },
 "nbformat": 4,
 "nbformat_minor": 1
}
