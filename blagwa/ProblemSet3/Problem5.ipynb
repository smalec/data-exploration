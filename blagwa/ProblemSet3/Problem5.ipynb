{
 "cells": [
  {
   "cell_type": "code",
   "execution_count": 1,
   "metadata": {
    "collapsed": false
   },
   "outputs": [
    {
     "name": "stdout",
     "output_type": "stream",
     "text": [
      "Populating the interactive namespace from numpy and matplotlib\n"
     ]
    }
   ],
   "source": [
    "%pylab inline\n",
    "\n",
    "import numpy as np"
   ]
  },
  {
   "cell_type": "code",
   "execution_count": 28,
   "metadata": {
    "collapsed": true
   },
   "outputs": [],
   "source": [
    "def k_means(k, data, iters):\n",
    "    \n",
    "    def init_centres():\n",
    "        return data[np.random.choice(data.shape[0], k, replace=False), :]\n",
    "    \n",
    "    def nearest_centres(r):\n",
    "        dists = ((data[:, np.newaxis, :] - r)**2).sum(axis=2)\n",
    "        return np.argmin(dists, axis=1)\n",
    "    \n",
    "    def compute_centres(nearest_centres):\n",
    "        return np.array([np.mean(data[nearest_centres == i, :], axis=0) for i in np.unique(nearest_centres)])\n",
    "    \n",
    "    r = init_centres()\n",
    "    prev_nearest_centres = None\n",
    "    curr_nearest_centres = nearest_centres(r)\n",
    "    i = 0\n",
    "    while (prev_nearest_centres is None or (prev_nearest_centres != curr_nearest_centres).any()) and i < iters:\n",
    "        r = compute_centres(curr_nearest_centres)\n",
    "        prev_nearest_centres = curr_nearest_centres\n",
    "        curr_nearest_centres = nearest_centres(r)\n",
    "        i += 1\n",
    "    return r, curr_nearest_centres"
   ]
  },
  {
   "cell_type": "code",
   "execution_count": 2,
   "metadata": {
    "collapsed": false
   },
   "outputs": [],
   "source": [
    "ids = np.array([], dtype=np.int64)\n",
    "with open(\"kosarak.dat\", \"r\") as f:\n",
    "    for line in f:\n",
    "        transaction_ids = line.split()\n",
    "        transaction_count = np.bincount(transaction_ids)\n",
    "        if len(transaction_count) > len(ids):\n",
    "            transaction_count[:len(ids)] += ids\n",
    "            ids = transaction_count\n",
    "        else:\n",
    "            ids[:len(transaction_count)] += transaction_count"
   ]
  },
  {
   "cell_type": "code",
   "execution_count": 46,
   "metadata": {
    "collapsed": false
   },
   "outputs": [],
   "source": [
    "T = 100\n",
    "bestsellers = np.argsort(ids)[-T:]\n",
    "table = np.zeros((T, T))\n",
    "\n",
    "with open(\"kosarak.dat\", \"r\") as f:\n",
    "    for line in f:\n",
    "        transaction_ids = line.split()\n",
    "        indices = np.hstack([np.nonzero(bestsellers==int(id)) for id in transaction_ids])[0]\n",
    "        update_row = np.zeros(T)\n",
    "        update_row[indices] = 1\n",
    "        table[indices, :] += update_row\n",
    "np.fill_diagonal(table, 0)"
   ]
  },
  {
   "cell_type": "code",
   "execution_count": 52,
   "metadata": {
    "collapsed": false
   },
   "outputs": [
    {
     "data": {
      "text/plain": [
       "<matplotlib.collections.PathCollection at 0xa4c4e80>"
      ]
     },
     "execution_count": 52,
     "metadata": {},
     "output_type": "execute_result"
    },
    {
     "data": {
      "image/png": "[encoded data removed]",
      "text/plain": [
       "<matplotlib.figure.Figure at 0x9f0c1d0>"
      ]
     },
     "metadata": {},
     "output_type": "display_data"
    }
   ],
   "source": [
    "centres, nearest_centres = k_means(5, table, 50)\n",
    "scatter(table[:, 0], table[:, 1], c=nearest_centres, cmap=\"spring\", edgecolors=\"none\", alpha=0.5)\n",
    "scatter(centres[:, 0], centres[:, 1], marker=\"x\", c=\"black\")"
   ]
  }
 ],
 "metadata": {
  "anaconda-cloud": {},
  "kernelspec": {
   "display_name": "Python [conda root]",
   "language": "python",
   "name": "conda-root-py"
  },
  "language_info": {
   "codemirror_mode": {
    "name": "ipython",
    "version": 2
   },
   "file_extension": ".py",
   "mimetype": "text/x-python",
   "name": "python",
   "nbconvert_exporter": "python",
   "pygments_lexer": "ipython2",
   "version": "2.7.12"
  }
 },
 "nbformat": 4,
 "nbformat_minor": 1
}
