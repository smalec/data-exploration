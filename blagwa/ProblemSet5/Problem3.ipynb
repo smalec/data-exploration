{
 "cells": [
  {
   "cell_type": "markdown",
   "metadata": {},
   "source": [
    "# Problem 3"
   ]
  },
  {
   "cell_type": "code",
   "execution_count": 1,
   "metadata": {
    "collapsed": false
   },
   "outputs": [
    {
     "name": "stdout",
     "output_type": "stream",
     "text": [
      "Populating the interactive namespace from numpy and matplotlib\n"
     ]
    }
   ],
   "source": [
    "%pylab inline\n",
    "\n",
    "import numpy as np\n",
    "import pandas as pd\n",
    "from sklearn import datasets\n",
    "from sklearn.ensemble import RandomForestClassifier, ExtraTreesClassifier"
   ]
  },
  {
   "cell_type": "code",
   "execution_count": 21,
   "metadata": {
    "collapsed": false
   },
   "outputs": [
    {
     "name": "stdout",
     "output_type": "stream",
     "text": [
      "Score on whole IRIS set (using RandomForestClassifier): 0.993333333333\n",
      "Score on whole TITANIC set (using RandomForestClassifier): 0.967696629213\n"
     ]
    }
   ],
   "source": [
    "iris = datasets.load_iris()\n",
    "iris_data = pd.DataFrame(iris.data, columns=iris.feature_names)\n",
    "iris_data['species'] = pd.Categorical.from_codes(iris.target, iris.target_names)\n",
    "iris_y = iris_data['species']\n",
    "iris_X = iris_data.drop('species', axis = 1)\n",
    "\n",
    "forest = RandomForestClassifier(n_estimators=10)\n",
    "forest = forest.fit(iris_X, iris_y)\n",
    "\n",
    "print \"Score on whole IRIS set (using RandomForestClassifier):\", forest.score(iris_X, iris_y)\n",
    "\n",
    "titanic_data = pd.read_csv(\"train.csv\")\n",
    "titanic_data = titanic_data.drop(['PassengerId', 'Name', 'Ticket', 'Cabin'], axis = 1)\n",
    "titanic_data = titanic_data.dropna()\n",
    "titanic_data['Sex'] = pd.Categorical.from_array(titanic_data['Sex']).codes\n",
    "titanic_data['Embarked'] = pd.Categorical.from_array(titanic_data['Embarked']).codes\n",
    "titanic_y = titanic_data['Survived']\n",
    "titanic_X = titanic_data.drop('Survived', axis = 1)\n",
    "\n",
    "forest = forest.fit(titanic_X, titanic_y)\n",
    "\n",
    "print \"Score on whole TITANIC set (using RandomForestClassifier):\", forest.score(titanic_X, titanic_y)"
   ]
  },
  {
   "cell_type": "code",
   "execution_count": 24,
   "metadata": {
    "collapsed": false
   },
   "outputs": [
    {
     "name": "stdout",
     "output_type": "stream",
     "text": [
      "Score on whole IRIS set (using ExtraTreesClassifier): 1.0\n",
      "Score on whole TITANIC set (using ExtraTreesClassifier): 0.98595505618\n"
     ]
    }
   ],
   "source": [
    "randomized_trees = ExtraTreesClassifier(n_estimators=10)\n",
    "\n",
    "randomized_trees = randomized_trees.fit(iris_X, iris_y)\n",
    "print \"Score on whole IRIS set (using ExtraTreesClassifier):\", randomized_trees.score(iris_X, iris_y)\n",
    "\n",
    "randomized_trees = randomized_trees.fit(titanic_X, titanic_y)\n",
    "print \"Score on whole TITANIC set (using ExtraTreesClassifier):\", randomized_trees.score(titanic_X, titanic_y)"
   ]
  },
  {
   "cell_type": "code",
   "execution_count": 60,
   "metadata": {
    "collapsed": false
   },
   "outputs": [
    {
     "name": "stdout",
     "output_type": "stream",
     "text": [
      "Score on IRIS training set (using RandomForestClassifier): 0.979166666667\n",
      "Score on IRIS test set (using RandomForestClassifier): 0.944444444444\n",
      "Score on TITANIC training set (using RandomForestClassifier): 0.982178217822\n",
      "Score on TITANIC test set (using RandomForestClassifier): 0.782608695652\n"
     ]
    }
   ],
   "source": [
    "iris_data['train'] = np.random.uniform(0, 1, len(iris_data))\n",
    "\n",
    "iris_data_train = iris_data[iris_data['train'] <= 0.7]\n",
    "iris_data_test = iris_data[iris_data['train'] > 0.7]\n",
    "\n",
    "iris_train_y = iris_data_train['species']\n",
    "iris_train_X = iris_data_train.drop('species', axis = 1)\n",
    "\n",
    "forest = forest.fit(iris_train_X, iris_train_y)\n",
    "\n",
    "print \"Score on IRIS training set (using RandomForestClassifier):\", forest.score(iris_train_X, iris_train_y)\n",
    "\n",
    "iris_test_y = iris_data_test['species']\n",
    "iris_test_X = iris_data_test.drop('species', axis = 1)\n",
    "\n",
    "print \"Score on IRIS test set (using RandomForestClassifier):\", forest.score(iris_test_X, iris_test_y)\n",
    "\n",
    "titanic_data['train'] = np.random.uniform(0, 1, len(titanic_data))\n",
    "\n",
    "titanic_data_train = titanic_data[titanic_data['train'] <= 0.7]\n",
    "titanic_data_test = titanic_data[titanic_data['train'] > 0.7]\n",
    "\n",
    "titanic_train_y = titanic_data_train['Survived']\n",
    "titanic_train_X = titanic_data_train.drop('Survived', axis = 1)\n",
    "\n",
    "forest = forest.fit(titanic_train_X, titanic_train_y)\n",
    "\n",
    "print \"Score on TITANIC training set (using RandomForestClassifier):\", forest.score(titanic_train_X, titanic_train_y)\n",
    "\n",
    "titanic_test_y = titanic_data_test['Survived']\n",
    "titanic_test_X = titanic_data_test.drop('Survived', axis = 1)\n",
    "\n",
    "print \"Score on TITANIC test set (using RandomForestClassifier):\", forest.score(titanic_test_X, titanic_test_y)"
   ]
  },
  {
   "cell_type": "code",
   "execution_count": 70,
   "metadata": {
    "collapsed": false
   },
   "outputs": [
    {
     "name": "stdout",
     "output_type": "stream",
     "text": [
      "Score on IRIS training set (using ExtraTreesClassifier): 1.0\n",
      "Score on IRIS test set (using ExtraTreesClassifier): 0.907407407407\n",
      "Score on TITANIC training set (using ExtraTreesClassifier): 1.0\n",
      "Score on TITANIC test set (using ExtraTreesClassifier): 0.772946859903\n"
     ]
    }
   ],
   "source": [
    "randomized_trees = ExtraTreesClassifier(n_estimators=10)\n",
    "\n",
    "randomized_trees = randomized_trees.fit(iris_train_X, iris_train_y)\n",
    "print \"Score on IRIS training set (using ExtraTreesClassifier):\", randomized_trees.score(iris_train_X, iris_train_y)\n",
    "print \"Score on IRIS test set (using ExtraTreesClassifier):\", randomized_trees.score(iris_test_X, iris_test_y)\n",
    "\n",
    "randomized_trees = randomized_trees.fit(titanic_train_X, titanic_train_y)\n",
    "print \"Score on TITANIC training set (using ExtraTreesClassifier):\", randomized_trees.score(titanic_train_X, titanic_train_y)\n",
    "print \"Score on TITANIC test set (using ExtraTreesClassifier):\", randomized_trees.score(titanic_test_X, titanic_test_y)"
   ]
  }
 ],
 "metadata": {
  "anaconda-cloud": {},
  "kernelspec": {
   "display_name": "Python [conda root]",
   "language": "python",
   "name": "conda-root-py"
  },
  "language_info": {
   "codemirror_mode": {
    "name": "ipython",
    "version": 2
   },
   "file_extension": ".py",
   "mimetype": "text/x-python",
   "name": "python",
   "nbconvert_exporter": "python",
   "pygments_lexer": "ipython2",
   "version": "2.7.12"
  }
 },
 "nbformat": 4,
 "nbformat_minor": 1
}
