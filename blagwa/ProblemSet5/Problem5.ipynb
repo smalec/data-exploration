{
 "cells": [
  {
   "cell_type": "markdown",
   "metadata": {},
   "source": [
    "# Problem 5"
   ]
  },
  {
   "cell_type": "code",
   "execution_count": 1,
   "metadata": {
    "collapsed": false
   },
   "outputs": [
    {
     "name": "stdout",
     "output_type": "stream",
     "text": [
      "Populating the interactive namespace from numpy and matplotlib\n"
     ]
    }
   ],
   "source": [
    "%pylab inline\n",
    "\n",
    "import numpy as np\n",
    "import pandas as pd\n",
    "import itertools as it\n",
    "\n",
    "from sklearn import tree\n",
    "from sklearn.ensemble import RandomForestClassifier, ExtraTreesClassifier"
   ]
  },
  {
   "cell_type": "code",
   "execution_count": 2,
   "metadata": {
    "collapsed": false
   },
   "outputs": [
    {
     "data": {
      "text/html": [
       "<div>\n",
       "<table border=\"1\" class=\"dataframe\">\n",
       "  <thead>\n",
       "    <tr style=\"text-align: right;\">\n",
       "      <th></th>\n",
       "      <th>buying</th>\n",
       "      <th>maint</th>\n",
       "      <th>persons</th>\n",
       "      <th>lug_boot</th>\n",
       "      <th>safety</th>\n",
       "      <th>acceptability</th>\n",
       "    </tr>\n",
       "  </thead>\n",
       "  <tbody>\n",
       "    <tr>\n",
       "      <th>0</th>\n",
       "      <td>vhigh</td>\n",
       "      <td>vhigh</td>\n",
       "      <td>2</td>\n",
       "      <td>small</td>\n",
       "      <td>low</td>\n",
       "      <td>3</td>\n",
       "    </tr>\n",
       "    <tr>\n",
       "      <th>1</th>\n",
       "      <td>vhigh</td>\n",
       "      <td>vhigh</td>\n",
       "      <td>2</td>\n",
       "      <td>small</td>\n",
       "      <td>med</td>\n",
       "      <td>3</td>\n",
       "    </tr>\n",
       "    <tr>\n",
       "      <th>2</th>\n",
       "      <td>vhigh</td>\n",
       "      <td>vhigh</td>\n",
       "      <td>2</td>\n",
       "      <td>small</td>\n",
       "      <td>high</td>\n",
       "      <td>3</td>\n",
       "    </tr>\n",
       "    <tr>\n",
       "      <th>3</th>\n",
       "      <td>vhigh</td>\n",
       "      <td>vhigh</td>\n",
       "      <td>2</td>\n",
       "      <td>med</td>\n",
       "      <td>low</td>\n",
       "      <td>3</td>\n",
       "    </tr>\n",
       "    <tr>\n",
       "      <th>4</th>\n",
       "      <td>vhigh</td>\n",
       "      <td>vhigh</td>\n",
       "      <td>2</td>\n",
       "      <td>med</td>\n",
       "      <td>med</td>\n",
       "      <td>3</td>\n",
       "    </tr>\n",
       "  </tbody>\n",
       "</table>\n",
       "</div>"
      ],
      "text/plain": [
       "  buying  maint persons lug_boot safety  acceptability\n",
       "0  vhigh  vhigh       2    small    low              3\n",
       "1  vhigh  vhigh       2    small    med              3\n",
       "2  vhigh  vhigh       2    small   high              3\n",
       "3  vhigh  vhigh       2      med    low              3\n",
       "4  vhigh  vhigh       2      med    med              3"
      ]
     },
     "execution_count": 2,
     "metadata": {},
     "output_type": "execute_result"
    }
   ],
   "source": [
    "columns = [\"buying\", \"maint\", \"doors\", \"persons\", \"lug_boot\", \"safety\", \"acceptability\"]\n",
    "data = pd.read_csv(\"car-evaluation.arff\", names=columns)\n",
    "data = data.drop(['doors'], axis = 1)\n",
    "data.head()"
   ]
  },
  {
   "cell_type": "code",
   "execution_count": 3,
   "metadata": {
    "collapsed": false
   },
   "outputs": [
    {
     "data": {
      "text/html": [
       "<div>\n",
       "<table border=\"1\" class=\"dataframe\">\n",
       "  <thead>\n",
       "    <tr style=\"text-align: right;\">\n",
       "      <th></th>\n",
       "      <th>buying</th>\n",
       "      <th>maint</th>\n",
       "      <th>persons</th>\n",
       "      <th>lug_boot</th>\n",
       "      <th>safety</th>\n",
       "      <th>acceptability</th>\n",
       "    </tr>\n",
       "  </thead>\n",
       "  <tbody>\n",
       "    <tr>\n",
       "      <th>0</th>\n",
       "      <td>3</td>\n",
       "      <td>3</td>\n",
       "      <td>0</td>\n",
       "      <td>0</td>\n",
       "      <td>0</td>\n",
       "      <td>3</td>\n",
       "    </tr>\n",
       "    <tr>\n",
       "      <th>1</th>\n",
       "      <td>3</td>\n",
       "      <td>3</td>\n",
       "      <td>0</td>\n",
       "      <td>0</td>\n",
       "      <td>1</td>\n",
       "      <td>3</td>\n",
       "    </tr>\n",
       "    <tr>\n",
       "      <th>2</th>\n",
       "      <td>3</td>\n",
       "      <td>3</td>\n",
       "      <td>0</td>\n",
       "      <td>0</td>\n",
       "      <td>2</td>\n",
       "      <td>3</td>\n",
       "    </tr>\n",
       "    <tr>\n",
       "      <th>3</th>\n",
       "      <td>3</td>\n",
       "      <td>3</td>\n",
       "      <td>0</td>\n",
       "      <td>1</td>\n",
       "      <td>0</td>\n",
       "      <td>3</td>\n",
       "    </tr>\n",
       "    <tr>\n",
       "      <th>4</th>\n",
       "      <td>3</td>\n",
       "      <td>3</td>\n",
       "      <td>0</td>\n",
       "      <td>1</td>\n",
       "      <td>1</td>\n",
       "      <td>3</td>\n",
       "    </tr>\n",
       "  </tbody>\n",
       "</table>\n",
       "</div>"
      ],
      "text/plain": [
       "   buying  maint  persons  lug_boot  safety  acceptability\n",
       "0       3      3        0         0       0              3\n",
       "1       3      3        0         0       1              3\n",
       "2       3      3        0         0       2              3\n",
       "3       3      3        0         1       0              3\n",
       "4       3      3        0         1       1              3"
      ]
     },
     "execution_count": 3,
     "metadata": {},
     "output_type": "execute_result"
    }
   ],
   "source": [
    "data[\"safety\"].replace({\"low\": 0, \"med\": 1, \"high\": 2}, inplace=True)\n",
    "data[\"lug_boot\"].replace({\"small\": 0, \"med\": 1, \"big\": 2}, inplace=True)\n",
    "data[\"persons\"].replace({\"2\": 0, \"4\": 1, \"more\": 2}, inplace=True)\n",
    "data[\"maint\"].replace({\"low\": 0, \"med\": 1, \"high\": 2, \"vhigh\": 3}, inplace=True)\n",
    "data[\"buying\"].replace({\"low\": 0, \"med\": 1, \"high\": 2, \"vhigh\": 3}, inplace=True)\n",
    "data.head()"
   ]
  },
  {
   "cell_type": "code",
   "execution_count": 4,
   "metadata": {
    "collapsed": false
   },
   "outputs": [
    {
     "name": "stdout",
     "output_type": "stream",
     "text": [
      "Best average score using <class 'sklearn.tree.tree.DecisionTreeClassifier'>:\n",
      "\tparams: {'criterion': 'entropy', 'max_depth': 10}\n",
      "\taverage score: 93.32%\n",
      "Best average score using <class 'sklearn.ensemble.forest.RandomForestClassifier'>:\n",
      "\tparams: {'n_estimators': 50, 'criterion': 'entropy', 'max_depth': 10}\n",
      "\taverage score: 93.97%\n",
      "Best average score using <class 'sklearn.ensemble.forest.ExtraTreesClassifier'>:\n",
      "\tparams: {'n_estimators': 50, 'criterion': 'gini', 'max_depth': 10}\n",
      "\taverage score: 93.61%\n"
     ]
    }
   ],
   "source": [
    "classifiers = [tree.DecisionTreeClassifier, RandomForestClassifier, ExtraTreesClassifier]\n",
    "params = [\n",
    "    {\n",
    "        \"criterion\": [\"gini\", \"entropy\"],\n",
    "        \"max_depth\": [5, 10, None],\n",
    "    },\n",
    "    {\n",
    "        \"n_estimators\": [10, 50],\n",
    "        \"criterion\": [\"gini\", \"entropy\"],\n",
    "        \"max_depth\": [5, 10, None],\n",
    "    },\n",
    "    {\n",
    "        \"n_estimators\": [10, 50],\n",
    "        \"criterion\": [\"gini\", \"entropy\"],\n",
    "        \"max_depth\": [5, 10, None],\n",
    "    },\n",
    "]\n",
    "\n",
    "for classifier_class, param in zip(classifiers, params):\n",
    "    best = 0, {}\n",
    "    for param_combination in [dict(zip(param, prod)) for prod in it.product(*(param[varName] for varName in param))]:\n",
    "        classifier = classifier_class(**param_combination)\n",
    "        repetitions = 100\n",
    "        test_scores = 0\n",
    "        for i in range(repetitions):\n",
    "            data['train'] = np.random.uniform(0, 1, len(data))\n",
    "\n",
    "            data_train = data[data['train'] <= 0.7]\n",
    "            data_test = data[data['train'] > 0.7]\n",
    "\n",
    "            y = data_train['acceptability']\n",
    "            X = data_train.drop('acceptability', axis = 1)\n",
    "\n",
    "            classifier = classifier.fit(X, y)\n",
    "\n",
    "            y = data_test['acceptability']\n",
    "            X = data_test.drop('acceptability', axis = 1)\n",
    "            test_scores += classifier.score(X, y)\n",
    "        \n",
    "        avg_score = 100.0*test_scores/repetitions\n",
    "        if avg_score > best[0]: best = avg_score, param_combination\n",
    "\n",
    "    print \"Best average score using {}:\\n\\tparams: {}\\n\\taverage score: {:.2f}%\".format(classifier_class, best[1], best[0])"
   ]
  }
 ],
 "metadata": {
  "anaconda-cloud": {},
  "kernelspec": {
   "display_name": "Python [conda root]",
   "language": "python",
   "name": "conda-root-py"
  },
  "language_info": {
   "codemirror_mode": {
    "name": "ipython",
    "version": 2
   },
   "file_extension": ".py",
   "mimetype": "text/x-python",
   "name": "python",
   "nbconvert_exporter": "python",
   "pygments_lexer": "ipython2",
   "version": "2.7.12"
  }
 },
 "nbformat": 4,
 "nbformat_minor": 1
}
